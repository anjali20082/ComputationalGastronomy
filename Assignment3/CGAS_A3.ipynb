{
  "nbformat": 4,
  "nbformat_minor": 0,
  "metadata": {
    "colab": {
      "name": "CGAS_A3.ipynb",
      "provenance": [],
      "collapsed_sections": []
    },
    "kernelspec": {
      "name": "python3",
      "display_name": "Python 3"
    },
    "language_info": {
      "name": "python"
    }
  },
  "cells": [
    {
      "cell_type": "code",
      "metadata": {
        "colab": {
          "base_uri": "https://localhost:8080/"
        },
        "id": "E5CctMXL5k4G",
        "outputId": "26aa4c62-d438-457f-96c5-a990ac11ad95"
      },
      "source": [
        "import numpy as np\n",
        "import pandas as pd\n",
        "import matplotlib.pyplot as plt\n",
        "import seaborn as sns\n",
        "from collections import OrderedDict\n",
        "import operator\n",
        "import random\n",
        "from mlxtend.frequent_patterns import apriori\n",
        "from mlxtend.preprocessing import TransactionEncoder\n",
        "\n",
        "train = pd.read_json('/content/drive/MyDrive/SEM3/CGAS/Assignment3/train.json')\n",
        "test = pd.read_json('/content/drive/MyDrive/SEM3/CGAS/Assignment3/test.json')\n",
        "\n",
        "# Number of recipes\n",
        "print(\"Number of recipes : \",len(train))\n",
        "\n",
        "# Number of cuisines\n",
        "cuisines = train.cuisine.unique()\n",
        "print(\"Number of cuisines : \", len(cuisines))\n",
        "\n",
        "#Get total number of ingredients from dataset\n",
        "total_ingre = []\n",
        "for lst in train['ingredients']:\n",
        "  total_ingre.extend(lst)\n",
        "print(len(total_ingre))\n",
        "\n",
        "\n",
        "nb=(set(total_ingre))\n",
        "nb_lst = list(nb)\n",
        "print(len(nb))"
      ],
      "execution_count": 28,
      "outputs": [
        {
          "output_type": "stream",
          "name": "stdout",
          "text": [
            "Number of recipes :  39774\n",
            "Number of cuisines :  20\n",
            "428275\n",
            "6714\n"
          ]
        }
      ]
    },
    {
      "cell_type": "markdown",
      "metadata": {
        "id": "onTGL7FZuohq"
      },
      "source": [
        "**Question 1 a)**"
      ]
    },
    {
      "cell_type": "code",
      "metadata": {
        "colab": {
          "base_uri": "https://localhost:8080/"
        },
        "id": "C78LgtsMq-X8",
        "outputId": "65c07495-909c-4f5d-990d-7b9553585059"
      },
      "source": [
        "train_subset = list(train['ingredients'])\n",
        "len(train_subset)\n",
        "te = TransactionEncoder()\n",
        "data = te.fit_transform(train_subset)\n",
        "data = pd.DataFrame(data, columns = te.columns_)\n",
        "# dataset = dataset.astype('int')\n",
        "\n",
        "data.shape"
      ],
      "execution_count": 3,
      "outputs": [
        {
          "output_type": "execute_result",
          "data": {
            "text/plain": [
              "(39774, 6714)"
            ]
          },
          "metadata": {},
          "execution_count": 3
        }
      ]
    },
    {
      "cell_type": "code",
      "metadata": {
        "id": "sZRGz01frZfp"
      },
      "source": [
        "final_itemset = apriori(data, min_support = 0.004, use_colnames = True)"
      ],
      "execution_count": 4,
      "outputs": []
    },
    {
      "cell_type": "code",
      "metadata": {
        "colab": {
          "base_uri": "https://localhost:8080/",
          "height": 419
        },
        "id": "ZVRK0677xX3E",
        "outputId": "1cad0c46-f48e-4ec4-da2d-225efa4e38f5"
      },
      "source": [
        "final_itemset['length'] = final_itemset['itemsets'].apply(lambda x: len(x))\n",
        "final_itemset"
      ],
      "execution_count": 5,
      "outputs": [
        {
          "output_type": "execute_result",
          "data": {
            "text/html": [
              "<div>\n",
              "<style scoped>\n",
              "    .dataframe tbody tr th:only-of-type {\n",
              "        vertical-align: middle;\n",
              "    }\n",
              "\n",
              "    .dataframe tbody tr th {\n",
              "        vertical-align: top;\n",
              "    }\n",
              "\n",
              "    .dataframe thead th {\n",
              "        text-align: right;\n",
              "    }\n",
              "</style>\n",
              "<table border=\"1\" class=\"dataframe\">\n",
              "  <thead>\n",
              "    <tr style=\"text-align: right;\">\n",
              "      <th></th>\n",
              "      <th>support</th>\n",
              "      <th>itemsets</th>\n",
              "      <th>length</th>\n",
              "    </tr>\n",
              "  </thead>\n",
              "  <tbody>\n",
              "    <tr>\n",
              "      <th>0</th>\n",
              "      <td>0.004852</td>\n",
              "      <td>(1% low-fat milk)</td>\n",
              "      <td>1</td>\n",
              "    </tr>\n",
              "    <tr>\n",
              "      <th>1</th>\n",
              "      <td>0.004350</td>\n",
              "      <td>(Mexican cheese blend)</td>\n",
              "      <td>1</td>\n",
              "    </tr>\n",
              "    <tr>\n",
              "      <th>2</th>\n",
              "      <td>0.006638</td>\n",
              "      <td>(Shaoxing wine)</td>\n",
              "      <td>1</td>\n",
              "    </tr>\n",
              "    <tr>\n",
              "      <th>3</th>\n",
              "      <td>0.007492</td>\n",
              "      <td>(Sriracha)</td>\n",
              "      <td>1</td>\n",
              "    </tr>\n",
              "    <tr>\n",
              "      <th>4</th>\n",
              "      <td>0.004626</td>\n",
              "      <td>(Tabasco Pepper Sauce)</td>\n",
              "      <td>1</td>\n",
              "    </tr>\n",
              "    <tr>\n",
              "      <th>...</th>\n",
              "      <td>...</td>\n",
              "      <td>...</td>\n",
              "      <td>...</td>\n",
              "    </tr>\n",
              "    <tr>\n",
              "      <th>2846</th>\n",
              "      <td>0.004123</td>\n",
              "      <td>(salt, sugar, soy sauce, sesame oil)</td>\n",
              "      <td>4</td>\n",
              "    </tr>\n",
              "    <tr>\n",
              "      <th>2847</th>\n",
              "      <td>0.004551</td>\n",
              "      <td>(salt, sugar, baking powder, all-purpose flour...</td>\n",
              "      <td>5</td>\n",
              "    </tr>\n",
              "    <tr>\n",
              "      <th>2848</th>\n",
              "      <td>0.004651</td>\n",
              "      <td>(unsalted butter, salt, sugar, all-purpose flo...</td>\n",
              "      <td>5</td>\n",
              "    </tr>\n",
              "    <tr>\n",
              "      <th>2849</th>\n",
              "      <td>0.004827</td>\n",
              "      <td>(olive oil, salt, garlic, onions, pepper)</td>\n",
              "      <td>5</td>\n",
              "    </tr>\n",
              "    <tr>\n",
              "      <th>2850</th>\n",
              "      <td>0.004324</td>\n",
              "      <td>(garlic, salt, onions, pepper, water)</td>\n",
              "      <td>5</td>\n",
              "    </tr>\n",
              "  </tbody>\n",
              "</table>\n",
              "<p>2851 rows × 3 columns</p>\n",
              "</div>"
            ],
            "text/plain": [
              "       support                                           itemsets  length\n",
              "0     0.004852                                  (1% low-fat milk)       1\n",
              "1     0.004350                             (Mexican cheese blend)       1\n",
              "2     0.006638                                    (Shaoxing wine)       1\n",
              "3     0.007492                                         (Sriracha)       1\n",
              "4     0.004626                             (Tabasco Pepper Sauce)       1\n",
              "...        ...                                                ...     ...\n",
              "2846  0.004123               (salt, sugar, soy sauce, sesame oil)       4\n",
              "2847  0.004551  (salt, sugar, baking powder, all-purpose flour...       5\n",
              "2848  0.004651  (unsalted butter, salt, sugar, all-purpose flo...       5\n",
              "2849  0.004827          (olive oil, salt, garlic, onions, pepper)       5\n",
              "2850  0.004324              (garlic, salt, onions, pepper, water)       5\n",
              "\n",
              "[2851 rows x 3 columns]"
            ]
          },
          "metadata": {},
          "execution_count": 5
        }
      ]
    },
    {
      "cell_type": "markdown",
      "metadata": {
        "id": "Yt0POjcdqk_N"
      },
      "source": [
        "**Question 1 b)**"
      ]
    },
    {
      "cell_type": "code",
      "metadata": {
        "id": "6s9kD88_y0mr"
      },
      "source": [
        "frequent_itemsets_one = final_itemset.loc[final_itemset['length'] == 1]\n",
        "frequent_itemsets_two = final_itemset.loc[final_itemset['length'] == 2]\n",
        "frequent_itemsets_three = final_itemset.loc[final_itemset['length'] == 3]\n",
        "frequent_itemsets_four = final_itemset.loc[final_itemset['length'] == 4]\n",
        "frequent_itemsets_five = final_itemset.loc[final_itemset['length'] == 5]\n",
        "\n",
        "frequent_itemsets_one = frequent_itemsets_one.sort_values('support', ascending=False)\n",
        "frequent_itemsets_two = frequent_itemsets_two.sort_values('support', ascending=False)\n",
        "frequent_itemsets_three = frequent_itemsets_three.sort_values('support', ascending=False)\n",
        "frequent_itemsets_four = frequent_itemsets_four.sort_values('support', ascending=False)\n",
        "frequent_itemsets_five = frequent_itemsets_five.sort_values('support', ascending=False)"
      ],
      "execution_count": 6,
      "outputs": []
    },
    {
      "cell_type": "code",
      "metadata": {
        "colab": {
          "base_uri": "https://localhost:8080/"
        },
        "id": "litAseXR1gjR",
        "outputId": "077e0040-1946-4feb-e434-f98f2f536cce"
      },
      "source": [
        "print(frequent_itemsets_one)\n",
        "print(frequent_itemsets_two)\n",
        "print(frequent_itemsets_three)\n",
        "print(frequent_itemsets_four)\n",
        "print(frequent_itemsets_five)"
      ],
      "execution_count": 7,
      "outputs": [
        {
          "output_type": "stream",
          "name": "stdout",
          "text": [
            "      support               itemsets  length\n",
            "371  0.453764                 (salt)       1\n",
            "313  0.200432               (onions)       1\n",
            "311  0.200407            (olive oil)       1\n",
            "442  0.187484                (water)       1\n",
            "201  0.185548               (garlic)       1\n",
            "..        ...                    ...     ...\n",
            "298  0.004098                 (mint)       1\n",
            "59   0.004098     (button mushrooms)       1\n",
            "393  0.004048  (sliced black olives)       1\n",
            "409  0.004048   (sun-dried tomatoes)       1\n",
            "383  0.004023       (sherry vinegar)       1\n",
            "\n",
            "[461 rows x 3 columns]\n",
            "       support                         itemsets  length\n",
            "1740  0.110424                   (salt, onions)       2\n",
            "1710  0.105018                (olive oil, salt)       2\n",
            "1865  0.099563                    (salt, water)       2\n",
            "1779  0.096646                   (pepper, salt)       2\n",
            "1315  0.094258                   (salt, garlic)       2\n",
            "...        ...                              ...     ...\n",
            "1446  0.004023      (green onions, kosher salt)       2\n",
            "794   0.004023   (ground black pepper, chicken)       2\n",
            "822   0.004023   (chicken stock, vegetable oil)       2\n",
            "1078  0.004023         (dry bread crumbs, salt)       2\n",
            "862   0.004023  (chopped celery, chopped onion)       2\n",
            "\n",
            "[1471 rows x 3 columns]\n",
            "       support                                          itemsets  length\n",
            "2425  0.040353                            (garlic, salt, onions)       3\n",
            "2664  0.033741                            (salt, pepper, onions)       3\n",
            "2680  0.031176                             (salt, water, onions)       3\n",
            "2643  0.030246                         (salt, olive oil, onions)       3\n",
            "2418  0.029793                         (salt, olive oil, garlic)       3\n",
            "...        ...                                               ...     ...\n",
            "2003  0.004023  (unsalted butter, whole milk, all-purpose flour)       3\n",
            "2627  0.004023                     (salt, minced garlic, onions)       3\n",
            "2624  0.004023                       (salt, milk, vegetable oil)       3\n",
            "2210  0.004023                (jalapeno chilies, cilantro, salt)       3\n",
            "2666  0.004023                   (pepper, onions, vegetable oil)       3\n",
            "\n",
            "[813 rows x 3 columns]\n",
            "       support                                   itemsets  length\n",
            "2816  0.014105             (garlic, pepper, salt, onions)       4\n",
            "2820  0.012621              (garlic, salt, water, onions)       4\n",
            "2811  0.012244          (garlic, salt, olive oil, onions)       4\n",
            "2813  0.010685          (salt, pepper, olive oil, garlic)       4\n",
            "2838  0.010359          (salt, pepper, olive oil, onions)       4\n",
            "...        ...                                        ...     ...\n",
            "2812  0.004123         (garlic, water, olive oil, onions)       4\n",
            "2786  0.004123    (salt, black pepper, olive oil, onions)       4\n",
            "2846  0.004123       (salt, sugar, soy sauce, sesame oil)       4\n",
            "2832  0.004073  (salt, ground turmeric, onions, tomatoes)       4\n",
            "2800  0.004023               (salt, pepper, eggs, onions)       4\n",
            "\n",
            "[102 rows x 3 columns]\n",
            "       support                                           itemsets  length\n",
            "2849  0.004827          (olive oil, salt, garlic, onions, pepper)       5\n",
            "2848  0.004651  (unsalted butter, salt, sugar, all-purpose flo...       5\n",
            "2847  0.004551  (salt, sugar, baking powder, all-purpose flour...       5\n",
            "2850  0.004324              (garlic, salt, onions, pepper, water)       5\n"
          ]
        }
      ]
    },
    {
      "cell_type": "markdown",
      "metadata": {
        "id": "N_ZO7Q4HO9tV"
      },
      "source": [
        "**Question 1 c)** </br>\n",
        "**Observations**\n",
        "\n",
        "1. The most used ingredient has the highest support value, thus in accordance with the frequency rank distribution.\n",
        "\n",
        "2. There are less itemsets for size 1 and 4 but for size 2 and 3 there are more itemsets depicting that their combination is used widely.\n",
        "\n",
        "3. There are very few itemsets for size 5 showing that if we keep on increasing the size of itemsets there would be very few or there would be no itemsets for higher sizes.\n",
        "\n",
        "4. The itemsets with size greater than oe equal to 1 have high probability that they have salt which has the highest support value as one of the ingredients.\n",
        "\n",
        "5. Adding an ingredient that already has a lower support value does not increase the overall support value of the itemset, thus making not making the itemset very usable or popular.\n",
        "\n"
      ]
    },
    {
      "cell_type": "markdown",
      "metadata": {
        "id": "b11HfYo_utJ6"
      },
      "source": [
        "**Question 2**"
      ]
    },
    {
      "cell_type": "markdown",
      "metadata": {
        "id": "WmfNQy54701e"
      },
      "source": [
        "**Random Control R0**"
      ]
    },
    {
      "cell_type": "code",
      "metadata": {
        "id": "oGKv1JIkuvs9"
      },
      "source": [
        "count =[]\n",
        "for lst in train['ingredients']:\n",
        "  count.append(len(lst))\n",
        "\n",
        "train['recipe_size'] = count\n",
        "\n",
        "train_sorted = train.sort_values(by=['recipe_size'], ascending=False)\n",
        "\n",
        "size_lst = []\n",
        "recipe_lst = []\n",
        "recipe_id = []\n",
        "cuisine_lst = []\n",
        "for index, row in train_sorted.iterrows():\n",
        "  sizeofrecipe = len(row['ingredients'])\n",
        "  size_lst.append(sizeofrecipe)\n",
        "  # print(row['ingredients'])\n",
        "  # print(sizeofrecipe)\n",
        "  new_randomrecipe = random.sample(nb_lst, sizeofrecipe)\n",
        "  recipe_lst.append(new_randomrecipe)\n",
        "  recipe_id.append(row['id'])\n",
        "  cuisine_lst.append(row['cuisine'])\n",
        "  # print(new_randomrecipe)"
      ],
      "execution_count": 3,
      "outputs": []
    },
    {
      "cell_type": "code",
      "metadata": {
        "colab": {
          "base_uri": "https://localhost:8080/"
        },
        "id": "sbqNY-1D6oWK",
        "outputId": "07e82ac4-d544-420f-baf9-1db5949f0338"
      },
      "source": [
        "list_tuples = list(zip(recipe_id, cuisine_lst, recipe_lst, size_lst))\n",
        "dframe = pd.DataFrame(list_tuples, columns=['id', 'cuisine', 'ingredients', 'recipe_size'])  \n",
        "   \n",
        "print(dframe) \n",
        "\n",
        "#calculate unique ingredients to find out if the number of ingredients are preserved\n",
        "count_new =[]\n",
        "for lst in dframe['ingredients']:\n",
        "  count_new.extend(lst)\n",
        "print(len(count_new))\n",
        "\n",
        "count_new_set = set(count_new)\n",
        "count_new_lst = list(count_new_set)\n",
        "print(len (count_new_lst))"
      ],
      "execution_count": 4,
      "outputs": [
        {
          "output_type": "stream",
          "name": "stdout",
          "text": [
            "          id  ... recipe_size\n",
            "0       3885  ...          65\n",
            "1      13430  ...          59\n",
            "2      13049  ...          52\n",
            "3      49282  ...          49\n",
            "4       2253  ...          49\n",
            "...      ...  ...         ...\n",
            "39769  12805  ...           1\n",
            "39770  39221  ...           1\n",
            "39771  10816  ...           1\n",
            "39772  39186  ...           1\n",
            "39773   7833  ...           1\n",
            "\n",
            "[39774 rows x 4 columns]\n",
            "428275\n",
            "6714\n"
          ]
        }
      ]
    },
    {
      "cell_type": "code",
      "metadata": {
        "colab": {
          "base_uri": "https://localhost:8080/",
          "height": 513
        },
        "id": "cHaIfg4_1f7L",
        "outputId": "af305df1-d908-437a-e62b-e7866318e248"
      },
      "source": [
        "#Original\n",
        "count =[]\n",
        "for lst in train['ingredients']:\n",
        "  count.append(len(lst))\n",
        "\n",
        "train['recipe_size'] = count\n",
        "# unique_counts = (train['recipe_size'].explode().value_counts()).values\n",
        "train['freq'] = ((train.groupby('recipe_size')['recipe_size'].transform('count'))/(len(train)))*100\n",
        "\n",
        "# for all recipes\n",
        "recipe_size_data = pd.Series(train.freq.values,index=train.recipe_size).to_dict()\n",
        "\n",
        "recipe_size_data_sorted = OrderedDict(sorted(recipe_size_data.items()))\n",
        "recipe_size = list(recipe_size_data_sorted.keys())\n",
        "recipe_freq = list(recipe_size_data_sorted.values())\n",
        "\n",
        "#Random\n",
        "dframe['freq'] = ((dframe.groupby('recipe_size')['recipe_size'].transform('count'))/(len(train)))*100\n",
        "# train_sorted\n",
        "\n",
        "# for all recipes\n",
        "recipe_size_data = pd.Series(dframe.freq.values,index=dframe.recipe_size).to_dict()\n",
        "\n",
        "recipe_size_data_sorted = OrderedDict(sorted(recipe_size_data.items()))\n",
        "recipe_size = list(recipe_size_data_sorted.keys())\n",
        "recipe_freq = list(recipe_size_data_sorted.values())\n",
        "plt.figure(figsize = (12,8))\n",
        "plt.plot(recipe_size,recipe_freq, marker = 'o' , label = \"Original\", color = 'blue')\n",
        "plt.plot(recipe_size,recipe_freq, marker = '' , label = \"Random Control R0\", color = 'red')\n",
        "\n",
        "plt.ylabel(\"Percentage of Number of recipes\")\n",
        "plt.xlabel(\"Recipe Size\")\n",
        "plt.title('Recipe Size Distribution for all Recipes')\n",
        "plt.legend()\n",
        "plt.grid()\n",
        "plt.show()"
      ],
      "execution_count": 19,
      "outputs": [
        {
          "output_type": "display_data",
          "data": {
            "image/png": "[encoded data removed]",
            "text/plain": [
              "<Figure size 864x576 with 1 Axes>"
            ]
          },
          "metadata": {
            "needs_background": "light"
          }
        }
      ]
    },
    {
      "cell_type": "markdown",
      "metadata": {
        "id": "je6wCWZN77g7"
      },
      "source": [
        "**Random Control R1**"
      ]
    },
    {
      "cell_type": "code",
      "metadata": {
        "colab": {
          "base_uri": "https://localhost:8080/"
        },
        "id": "gaDV_klv77Hy",
        "outputId": "631e37ff-6629-4933-99ac-bbd76fc284a1"
      },
      "source": [
        "total_ingre =[]\n",
        "for lst in train['ingredients']:\n",
        "  total_ingre.extend(lst)\n",
        "values, counts = np.unique(total_ingre, return_counts=True)\n",
        "\n",
        "ingre_count = {}\n",
        "for A, B in zip(values, counts):\n",
        "    ingre_count[A] = B\n",
        "\n",
        "ingre_count_sorted = dict( sorted(ingre_count.items(), key=operator.itemgetter(1),reverse=True))\n",
        "pairs_iterator = iter(ingre_count_sorted.items())\n",
        "print(type(ingre_count_sorted))\n"
      ],
      "execution_count": 22,
      "outputs": [
        {
          "output_type": "stream",
          "name": "stdout",
          "text": [
            "<class 'dict'>\n"
          ]
        }
      ]
    },
    {
      "cell_type": "code",
      "metadata": {
        "id": "kDhqGSClbZXd"
      },
      "source": [
        "print(ingre_count_sorted)\n",
        "train_sorted"
      ],
      "execution_count": null,
      "outputs": []
    },
    {
      "cell_type": "code",
      "metadata": {
        "id": "ovUu0UmNJWED"
      },
      "source": [
        "size_lst2 = []\n",
        "recipe_lst2 = []\n",
        "recipe_id2 = []\n",
        "cuisine_lst2 = []\n",
        "counter = 0\n",
        "# ing_weights = list(ingre_count_sorted.values())\n",
        "for index, row in train_sorted.iterrows():\n",
        "  print(\"counter :\" ,counter)\n",
        "  random_ingre_lst = []\n",
        "  sizeofrecipe = len(row['ingredients'])\n",
        "  size_lst2.append(sizeofrecipe)\n",
        "  \n",
        "  i = 0\n",
        " \n",
        "  for key,value in ingre_count_sorted.copy().items(): \n",
        "    \n",
        "    if(ingre_count_sorted[key] == 0) :\n",
        "      del ingre_count_sorted[key]\n",
        "\n",
        "  while(i < (sizeofrecipe)):\n",
        "    # random_ingre = random.choice(nb_lst)\n",
        "    ing_lst = list(ingre_count_sorted.keys())\n",
        "    ing_weights = list(ingre_count_sorted.values())\n",
        "    random_ingre = random.choices(ing_lst, k=1, weights = ing_weights)[0]\n",
        "    # random_ingre = random.choice(ing_lst)\n",
        "    \n",
        "    if((ingre_count_sorted[random_ingre] > 0) & (random_ingre not in random_ingre_lst)):\n",
        "      # if(random_ingre not in random_ingre_lst):\n",
        "      ingre_count_sorted[random_ingre] -= 1\n",
        "      random_ingre_lst.append(random_ingre)\n",
        "      i += 1\n",
        "\n",
        "  new_randomrecipe = random_ingre_lst\n",
        "  # print(\"recipe : \", new_randomrecipe)\n",
        "  recipe_lst2.append(new_randomrecipe)\n",
        "  recipe_id2.append(row['id'])\n",
        "  cuisine_lst2.append(row['cuisine'])\n",
        "  counter += 1 "
      ],
      "execution_count": null,
      "outputs": []
    },
    {
      "cell_type": "code",
      "metadata": {
        "colab": {
          "base_uri": "https://localhost:8080/"
        },
        "id": "l3GThSBDP-4p",
        "outputId": "0ec219ed-959c-4f25-faba-bae5d0b9bee3"
      },
      "source": [
        "list_tuples2 = list(zip(recipe_id2, cuisine_lst2, recipe_lst2, size_lst2))\n",
        "dframe2 = pd.DataFrame(list_tuples2, columns=['id', 'cuisine', 'ingredients', 'recipe_size'])  \n",
        "# 35930   \n",
        "print(dframe2) "
      ],
      "execution_count": 26,
      "outputs": [
        {
          "output_type": "stream",
          "name": "stdout",
          "text": [
            "          id  ... recipe_size\n",
            "0       3885  ...          65\n",
            "1      13430  ...          59\n",
            "2      13049  ...          52\n",
            "3      49282  ...          49\n",
            "4       2253  ...          49\n",
            "...      ...  ...         ...\n",
            "39769  12805  ...           1\n",
            "39770  39221  ...           1\n",
            "39771  10816  ...           1\n",
            "39772  39186  ...           1\n",
            "39773   7833  ...           1\n",
            "\n",
            "[39774 rows x 4 columns]\n"
          ]
        }
      ]
    },
    {
      "cell_type": "code",
      "metadata": {
        "colab": {
          "base_uri": "https://localhost:8080/",
          "height": 517
        },
        "id": "9COMRIhtQZCD",
        "outputId": "d505c061-eed7-453c-de86-f471422e6cd6"
      },
      "source": [
        "#Orginal\n",
        "total_ingre =[]\n",
        "for lst in train['ingredients']:\n",
        "  total_ingre.extend(lst)\n",
        "values, counts = np.unique(total_ingre, return_counts=True)\n",
        "# print(type(counts))\n",
        "# print(values, counts)\n",
        "sorted_count = np.sort(counts)[::-1]\n",
        "rank =1\n",
        "rank_lst = []\n",
        "for i in range(sorted_count.shape[0]):\n",
        "  rank_lst.append(rank)\n",
        "  rank = rank+1\n",
        "\n",
        "\n",
        "\n",
        "\n",
        "\n",
        "#Random\n",
        "total_ingre2 =[]\n",
        "for lst in dframe2['ingredients']:\n",
        "  total_ingre2.extend(lst)\n",
        "values2, counts2 = np.unique(total_ingre2, return_counts=True)\n",
        "\n",
        "sorted_count2 = np.sort(counts2)[::-1]\n",
        "rank2 = 1\n",
        "rank_lst2 = []\n",
        "for i in range(sorted_count2.shape[0]):\n",
        "  rank_lst2.append(rank2)\n",
        "  rank2 = rank2+1\n",
        "\n",
        "plt.figure(figsize = (12,8))\n",
        "plt.loglog(rank_lst,sorted_count, marker = 'o',label =\"Original\", color = 'blue' )\n",
        "plt.loglog(rank_lst2,sorted_count2, marker = '',label =\"Random Control R1\" , color = 'red')\n",
        "plt.ylabel(\"Frequency\")\n",
        "plt.xlabel(\"Rank\")\n",
        "plt.title('Frequency-Rank distribution  for all Recipes')\n",
        "plt.legend()\n",
        "plt.grid()\n",
        "plt.show()"
      ],
      "execution_count": 27,
      "outputs": [
        {
          "output_type": "display_data",
          "data": {
            "image/png": "[encoded data removed]",
            "text/plain": [
              "<Figure size 864x576 with 1 Axes>"
            ]
          },
          "metadata": {
            "needs_background": "light"
          }
        }
      ]
    },
    {
      "cell_type": "code",
      "metadata": {
        "colab": {
          "base_uri": "https://localhost:8080/"
        },
        "id": "05j7q74ipM3v",
        "outputId": "68e31898-9428-4f39-fd47-f314d2ad2c2c"
      },
      "source": [
        "%%shell\n",
        "jupyter nbconvert --to html /content/drive/MyDrive/SEM3/CGAS/Assignment3/CGAS_A3.ipynb"
      ],
      "execution_count": 31,
      "outputs": [
        {
          "output_type": "stream",
          "name": "stdout",
          "text": [
            "[NbConvertApp] Converting notebook /content/drive/MyDrive/SEM3/CGAS/Assignment3/CGAS_A3.ipynb to html\n",
            "[NbConvertApp] Writing 395235 bytes to /content/drive/MyDrive/SEM3/CGAS/Assignment3/CGAS_A3.html\n"
          ]
        },
        {
          "output_type": "execute_result",
          "data": {
            "text/plain": [
              ""
            ]
          },
          "metadata": {},
          "execution_count": 31
        }
      ]
    }
  ]
}